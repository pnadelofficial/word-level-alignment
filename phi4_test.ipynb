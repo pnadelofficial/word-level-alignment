{
 "cells": [
  {
   "cell_type": "code",
   "execution_count": 1,
   "metadata": {},
   "outputs": [
    {
     "data": {
      "application/vnd.jupyter.widget-view+json": {
       "model_id": "8abaaf580cd44569a4d901cc52be1ff7",
       "version_major": 2,
       "version_minor": 0
      },
      "text/plain": [
       "Fetching 10 files:   0%|          | 0/10 [00:00<?, ?it/s]"
      ]
     },
     "metadata": {},
     "output_type": "display_data"
    }
   ],
   "source": [
    "from mlx_lm import load, generate\n",
    "\n",
    "model, tokenizer = load(\"mlx-community/phi-4-8bit\")"
   ]
  },
  {
   "cell_type": "code",
   "execution_count": 2,
   "metadata": {},
   "outputs": [],
   "source": [
    "from wla import WordLevelAligner\n",
    "\n",
    "wla = WordLevelAligner(model_path=(model, tokenizer))"
   ]
  },
  {
   "cell_type": "code",
   "execution_count": 3,
   "metadata": {},
   "outputs": [],
   "source": [
    "from collections import defaultdict\n",
    "\n",
    "all_results = defaultdict(list)"
   ]
  },
  {
   "cell_type": "code",
   "execution_count": 4,
   "metadata": {},
   "outputs": [],
   "source": [
    "examples = wla.get_examples()"
   ]
  },
  {
   "cell_type": "code",
   "execution_count": 5,
   "metadata": {},
   "outputs": [],
   "source": [
    "test = examples[100:]\n",
    "examples = examples[:100]\n",
    "\n",
    "_all = [wla.fill_prompt(examples, t, 3) for t in test[:20]]\n",
    "all_prompts = [a[0] for a in _all]\n",
    "all_correct = [a[1] for a in _all]"
   ]
  },
  {
   "cell_type": "code",
   "execution_count": 6,
   "metadata": {},
   "outputs": [],
   "source": [
    "from wla import Evaluator\n",
    "\n",
    "evaluator = Evaluator()"
   ]
  },
  {
   "cell_type": "code",
   "execution_count": 7,
   "metadata": {},
   "outputs": [],
   "source": [
    "def evaluate(prompt, correct):\n",
    "    messages = [\n",
    "        {'role':'user', 'content':prompt}\n",
    "    ]\n",
    "    prompt = tokenizer.apply_chat_template(messages, tokenize=False, add_generation_prompt=True)\n",
    "    response = generate(model, tokenizer, prompt=prompt, verbose=False)\n",
    "    return evaluator.evaluate_alignments(response, correct)"
   ]
  },
  {
   "cell_type": "code",
   "execution_count": 8,
   "metadata": {},
   "outputs": [
    {
     "name": "stderr",
     "output_type": "stream",
     "text": [
      "20it [03:26, 10.31s/it]\n"
     ]
    },
    {
     "ename": "TypeError",
     "evalue": "'int' object is not subscriptable",
     "output_type": "error",
     "traceback": [
      "\u001b[0;31m---------------------------------------------------------------------------\u001b[0m",
      "\u001b[0;31mTypeError\u001b[0m                                 Traceback (most recent call last)",
      "Cell \u001b[0;32mIn[8], line 5\u001b[0m\n\u001b[1;32m      3\u001b[0m \u001b[38;5;28;01mfor\u001b[39;00m prompt, correct \u001b[38;5;129;01min\u001b[39;00m tqdm(\u001b[38;5;28mzip\u001b[39m(all_prompts, all_correct)):\n\u001b[1;32m      4\u001b[0m     all_results[(\u001b[38;5;241m20\u001b[39m, \u001b[38;5;241m3\u001b[39m)]\u001b[38;5;241m.\u001b[39mextend(evaluate(prompt, correct))\n\u001b[0;32m----> 5\u001b[0m \u001b[38;5;28mprint\u001b[39m(\u001b[38;5;124m\"\u001b[39m\u001b[38;5;124mAverage weighted accuracy: \u001b[39m\u001b[38;5;124m\"\u001b[39m, \u001b[38;5;28msum\u001b[39m([\u001b[43mr\u001b[49m\u001b[43m[\u001b[49m\u001b[38;5;241;43m-\u001b[39;49m\u001b[38;5;241;43m1\u001b[39;49m\u001b[43m]\u001b[49m\u001b[38;5;241m.\u001b[39mweighted_accuracy \u001b[38;5;28;01mfor\u001b[39;00m r \u001b[38;5;129;01min\u001b[39;00m all_results[(\u001b[38;5;241m20\u001b[39m, \u001b[38;5;241m3\u001b[39m)]])\u001b[38;5;241m/\u001b[39m\u001b[38;5;28mlen\u001b[39m(all_results[(\u001b[38;5;241m20\u001b[39m, \u001b[38;5;241m3\u001b[39m)]))\n\u001b[1;32m      6\u001b[0m \u001b[38;5;28mprint\u001b[39m(\u001b[38;5;124m\"\u001b[39m\u001b[38;5;124mAverage F1 score: \u001b[39m\u001b[38;5;124m\"\u001b[39m, \u001b[38;5;28msum\u001b[39m([r[\u001b[38;5;241m-\u001b[39m\u001b[38;5;241m1\u001b[39m]\u001b[38;5;241m.\u001b[39mf1 \u001b[38;5;28;01mfor\u001b[39;00m r \u001b[38;5;129;01min\u001b[39;00m all_results[(\u001b[38;5;241m20\u001b[39m, \u001b[38;5;241m3\u001b[39m)]])\u001b[38;5;241m/\u001b[39m\u001b[38;5;28mlen\u001b[39m(all_results[(\u001b[38;5;241m20\u001b[39m, \u001b[38;5;241m3\u001b[39m)]))\n",
      "\u001b[0;31mTypeError\u001b[0m: 'int' object is not subscriptable"
     ]
    }
   ],
   "source": [
    "from tqdm import tqdm\n",
    "\n",
    "for prompt, correct in tqdm(zip(all_prompts, all_correct)):\n",
    "    all_results[(20, 3)].extend(evaluate(prompt, correct))\n",
    "print(\"Average weighted accuracy: \", sum([r[-1].weighted_accuracy for r in all_results[(20, 3)]])/len(all_results[(20, 3)]))\n",
    "print(\"Average F1 score: \", sum([r[-1].f1 for r in all_results[(20, 3)]])/len(all_results[(20, 3)]))"
   ]
  },
  {
   "cell_type": "code",
   "execution_count": 10,
   "metadata": {},
   "outputs": [
    {
     "data": {
      "text/plain": [
       "3"
      ]
     },
     "execution_count": 10,
     "metadata": {},
     "output_type": "execute_result"
    }
   ],
   "source": [
    "all_results[(20, 3)][0]"
   ]
  },
  {
   "cell_type": "code",
   "execution_count": null,
   "metadata": {},
   "outputs": [],
   "source": []
  }
 ],
 "metadata": {
  "kernelspec": {
   "display_name": "wla",
   "language": "python",
   "name": "python3"
  },
  "language_info": {
   "codemirror_mode": {
    "name": "ipython",
    "version": 3
   },
   "file_extension": ".py",
   "mimetype": "text/x-python",
   "name": "python",
   "nbconvert_exporter": "python",
   "pygments_lexer": "ipython3",
   "version": "3.12.8"
  }
 },
 "nbformat": 4,
 "nbformat_minor": 2
}
